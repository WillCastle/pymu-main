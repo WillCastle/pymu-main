{
 "cells": [
  {
   "cell_type": "code",
   "execution_count": null,
   "id": "9c8200ef",
   "metadata": {},
   "outputs": [],
   "source": [
    "%load_ext autoreload\n",
    "%autoreload 2"
   ]
  },
  {
   "cell_type": "code",
   "execution_count": null,
   "id": "bd7d67a5",
   "metadata": {},
   "outputs": [],
   "source": [
    "TEST_DURATION = 5"
   ]
  },
  {
   "cell_type": "code",
   "execution_count": null,
   "id": "5088daf8",
   "metadata": {},
   "outputs": [],
   "source": [
    "from IPython.display import Audio\n",
    "from pymu.core.old import generate_waveform\n",
    "\n",
    "# Generate a sine wave at 440Hz (A4 note)\n",
    "sample_rate = 44100\n",
    "samples = generate_waveform(frequency=440, duration=TEST_DURATION, sample_rate=sample_rate)\n",
    "\n",
    "# Play through speakers\n",
    "Audio(samples, rate=sample_rate)"
   ]
  },
  {
   "cell_type": "code",
   "execution_count": null,
   "id": "0ac1d234",
   "metadata": {},
   "outputs": [],
   "source": [
    "import numpy as np\n",
    "\n",
    "import matplotlib.pyplot as plt\n",
    "\n",
    "# Compute the FFT of the samples\n",
    "fft_vals = np.fft.rfft(samples)\n",
    "fft_freqs = np.fft.rfftfreq(len(samples), 1/sample_rate)\n",
    "\n",
    "# Find the frequency with the highest magnitude\n",
    "peak_freq = fft_freqs[np.argmax(np.abs(fft_vals))]\n",
    "\n",
    "print(f\"Peak frequency: {peak_freq:.2f} Hz\")\n",
    "\n",
    "# Plot the frequency spectrum\n",
    "plt.figure(figsize=(10, 4))\n",
    "plt.plot(fft_freqs, np.abs(fft_vals))\n",
    "plt.title(\"Frequency Spectrum of the Waveform\")\n",
    "plt.xlabel(\"Frequency (Hz)\")\n",
    "plt.ylabel(\"Magnitude\")\n",
    "plt.xlim(0, 1000)\n",
    "plt.grid(True)\n",
    "plt.show()"
   ]
  },
  {
   "cell_type": "code",
   "execution_count": null,
   "id": "ef53979d",
   "metadata": {},
   "outputs": [],
   "source": [
    "from pymu.core.old import frequency_modulation, create_harmonic_series\n",
    "from IPython.display import Audio\n",
    "\n",
    "# Example 1: Frequency Modulation Synthesis\n",
    "fm_samples = frequency_modulation(\n",
    "    carrier_freq=440,        # Carrier frequency (A4)\n",
    "    modulator_freq=220,      # Modulator frequency\n",
    "    modulation_index=2.0,    # Modulation index\n",
    "    duration=TEST_DURATION,            # Duration in seconds\n",
    "    sample_rate=sample_rate  # Use the existing sample_rate variable\n",
    ")\n",
    "print(\"Frequency Modulation Example (A4 carrier, 220Hz modulator):\")\n",
    "display(Audio(fm_samples, rate=sample_rate))\n",
    "\n",
    "# Example 2: Harmonic Series Synthesis\n",
    "harmonic_samples = create_harmonic_series(\n",
    "    fundamental_freq=440,           # Fundamental frequency (A4)\n",
    "    num_harmonics=5,         # Number of harmonics\n",
    "    amplitudes=[1, 0.5, 0.3, 0.2, 0.1],  # Amplitudes for each harmonic\n",
    "    duration=TEST_DURATION,            # Duration in seconds\n",
    "    sample_rate=sample_rate  # Use the existing sample_rate variable\n",
    ")\n",
    "print(\"Harmonic Series Example (A4, 5 harmonics):\")\n",
    "display(Audio(harmonic_samples, rate=sample_rate))"
   ]
  },
  {
   "cell_type": "code",
   "execution_count": null,
   "id": "7f153ff1",
   "metadata": {},
   "outputs": [],
   "source": [
    "from scipy.signal import sawtooth\n",
    "from IPython.display import Audio\n",
    "\n",
    "# Generate a bassy sawtooth wave (e.g., 55 Hz, A1)\n",
    "bass_freq = 55  # Hz\n",
    "t = np.linspace(0, TEST_DURATION, int(sample_rate * TEST_DURATION), endpoint=False)\n",
    "bassy_saw = sawtooth(2 * np.pi * bass_freq * t)\n",
    "\n",
    "print(\"Bassy Sawtooth Wave (A1, 55Hz):\")\n",
    "display(Audio(bassy_saw, rate=sample_rate))"
   ]
  },
  {
   "cell_type": "code",
   "execution_count": null,
   "id": "2645bd0a",
   "metadata": {},
   "outputs": [
    {
     "data": {
      "application/vnd.jupyter.widget-view+json": {
       "model_id": "c10e0b7e63a14cd2a2d39f7393585ba0",
       "version_major": 2,
       "version_minor": 0
      },
      "text/plain": [
       "HTML(value='\\n    <div style=\"font-family: monospace; white-space: pre; line-height: 1; font-size: 24px; font-…"
      ]
     },
     "metadata": {},
     "output_type": "display_data"
    },
    {
     "data": {
      "application/vnd.jupyter.widget-view+json": {
       "model_id": "4d197215949448caaf1d76907bbd8162",
       "version_major": 2,
       "version_minor": 0
      },
      "text/plain": [
       "Dropdown(description='Waveform:', index=4, options=('sine', 'square', 'triangle', 'sawtooth', 'harmonic'), val…"
      ]
     },
     "metadata": {},
     "output_type": "display_data"
    },
    {
     "data": {
      "application/vnd.jupyter.widget-view+json": {
       "model_id": "722f031eb656451aab335e32a6c22c68",
       "version_major": 2,
       "version_minor": 0
      },
      "text/plain": [
       "Text(value='', layout=Layout(width='500px'), placeholder='Click here, then type keys A-W-S-E-D-F-T-G-Y-H-U-J-K…"
      ]
     },
     "metadata": {},
     "output_type": "display_data"
    },
    {
     "data": {
      "application/vnd.jupyter.widget-view+json": {
       "model_id": "e7348b7f707c4829a4ff9736e393b983",
       "version_major": 2,
       "version_minor": 0
      },
      "text/plain": [
       "Output()"
      ]
     },
     "metadata": {},
     "output_type": "display_data"
    }
   ],
   "source": [
    "from IPython.display import display, clear_output\n",
    "import ipywidgets as widgets\n",
    "from pymu.core.old import generate_waveform, create_harmonic_series\n",
    "import numpy as np\n",
    "import sounddevice as sd\n",
    "import threading\n",
    "import time\n",
    "\n",
    "# First, make sure you have sounddevice installed\n",
    "# !pip install sounddevice\n",
    "\n",
    "# Define musical notes and corresponding keyboard keys\n",
    "keys_to_notes = {\n",
    "    'a': 'C4', 'w': 'C#4', 's': 'D4', 'e': 'D#4', 'd': 'E4', 'f': 'F4',\n",
    "    't': 'F#4', 'g': 'G4', 'y': 'G#4', 'h': 'A4', 'u': 'A#4', 'j': 'B4', 'k': 'C5'\n",
    "}\n",
    "\n",
    "# Define frequencies for each note\n",
    "note_frequencies = {\n",
    "    'C4': 261.63, 'C#4': 277.18, 'D4': 293.66, 'D#4': 311.13, 'E4': 329.63,\n",
    "    'F4': 349.23, 'F#4': 369.99, 'G4': 392.00, 'G#4': 415.30, 'A4': 440.00,\n",
    "    'A#4': 466.16, 'B4': 493.88, 'C5': 523.25\n",
    "}\n",
    "\n",
    "# Track which notes are currently playing\n",
    "active_notes = {}\n",
    "stop_flags = {}\n",
    "sample_rate = 44100\n",
    "\n",
    "def play_note(note, waveform_type=\"harmonic\", stop_flag=None):\n",
    "    freq = note_frequencies[note]\n",
    "    duration = 1.0  # Shorter duration for testing\n",
    "    \n",
    "    if waveform_type == \"harmonic\":\n",
    "        samples = create_harmonic_series(\n",
    "            fundamental_freq=freq, \n",
    "            num_harmonics=5,\n",
    "            amplitudes=[1.0, 0.5, 0.25, 0.125, 0.0625],\n",
    "            duration=duration,\n",
    "            sample_rate=sample_rate\n",
    "        )\n",
    "    else:\n",
    "        samples = generate_waveform(freq, duration, waveform=waveform_type, sample_rate=sample_rate)\n",
    "    \n",
    "    # Use simpler playback method for testing\n",
    "    stream = sd.play(samples, sample_rate)\n",
    "    return stream\n",
    "\n",
    "# # Function to play a note in a separate thread\n",
    "# def play_note(note, waveform_type=\"harmonic\", stop_flag=None):\n",
    "#     freq = note_frequencies[note]\n",
    "#     duration = 2.0  # Long duration, will be interrupted when key is released\n",
    "    \n",
    "#     if waveform_type == \"sine\":\n",
    "#         samples = generate_waveform(freq, duration, sample_rate=sample_rate)\n",
    "#     elif waveform_type == \"harmonic\":\n",
    "#         samples = create_harmonic_series(\n",
    "#             fundamental_freq=freq, \n",
    "#             num_harmonics=5,\n",
    "#             amplitudes=[1.0, 0.5, 0.25, 0.125, 0.0625],\n",
    "#             duration=duration,\n",
    "#             sample_rate=sample_rate\n",
    "#         )\n",
    "#     else:\n",
    "#         # You could add more waveform types here\n",
    "#         samples = generate_waveform(freq, duration, waveform=waveform_type, sample_rate=sample_rate)\n",
    "    \n",
    "#     # Start playing the sound\n",
    "#     stream = sd.OutputStream(samplerate=sample_rate, channels=1, callback=lambda *args: callback(samples, *args, stop_flag=stop_flag))\n",
    "#     stream.start()\n",
    "#     return stream\n",
    "\n",
    "# Callback for sounddevice to get audio data\n",
    "def callback(samples, outdata, frames, time, status, stop_flag=None):\n",
    "    if stop_flag and stop_flag.is_set():\n",
    "        # Fill with zeros to stop the sound\n",
    "        outdata[:] = np.zeros((frames, 1))\n",
    "        raise sd.CallbackStop\n",
    "    else:\n",
    "        # Use position as an attribute of the callback function instead of global\n",
    "        if not hasattr(callback, \"position\"):\n",
    "            callback.position = 0\n",
    "        \n",
    "        # Check for end of samples and wrap around\n",
    "        if callback.position + frames > len(samples):\n",
    "            # Calculate how many samples we need from the start\n",
    "            remaining = callback.position + frames - len(samples)\n",
    "            # Fill with wrapped-around samples\n",
    "            outdata[:frames-remaining, 0] = samples[callback.position:]\n",
    "            outdata[frames-remaining:, 0] = samples[:remaining]\n",
    "            callback.position = remaining\n",
    "        else:\n",
    "            # Normal case - just copy the samples\n",
    "            outdata[:, 0] = samples[callback.position:callback.position+frames]\n",
    "            callback.position += frames\n",
    "\n",
    "# Create an output area for showing pressed keys\n",
    "output = widgets.Output()\n",
    "\n",
    "# Define the waveform selector\n",
    "waveform_selector = widgets.Dropdown(\n",
    "    options=['sine', 'square', 'triangle', 'sawtooth', 'harmonic'],\n",
    "    value='harmonic',\n",
    "    description='Waveform:',\n",
    ")\n",
    "\n",
    "# Create a keyboard visualization\n",
    "keyboard_html = widgets.HTML(\n",
    "    value=\"\"\"\n",
    "    <div style=\"font-family: monospace; white-space: pre; line-height: 1; font-size: 24px; font-weight: bold;\">\n",
    "      ┌───┬───┬───┬───┬───┬───┬───┬───┬───┬───┐\n",
    "      │ A │ W │ S │ E │ D │ F │ T │ G │ Y │ H │\n",
    "      │ C │C#/│ D │D#/│ E │ F │F#/│ G │G#/│ A │\n",
    "      │   │Db │   │Eb │   │   │Gb │   │Ab │   │\n",
    "      └───┴───┴───┴───┴───┴───┴───┴───┴───┴───┘\n",
    "    </div>\n",
    "    \"\"\"\n",
    ")\n",
    "\n",
    "class KeyboardWidget(widgets.DOMWidget):\n",
    "    def __init__(self, **kwargs):\n",
    "        super().__init__(**kwargs)\n",
    "        self._keyboard_handler = self._create_keyboard_handler()\n",
    "        display(self._keyboard_handler)\n",
    "    \n",
    "    def _create_keyboard_handler(self):\n",
    "        text = widgets.Text(\n",
    "            placeholder='Click here, then type keys A-W-S-E-D-F-T-G-Y-H-U-J-K to play notes',\n",
    "            layout=widgets.Layout(width='500px')\n",
    "        )\n",
    "        \n",
    "        def handle_keydown(widget):\n",
    "            # Check if value exists and is a string before using lower()\n",
    "            if not hasattr(widget, 'value') or widget.value is None or widget.value == '':\n",
    "                return\n",
    "            key = widget.value.lower()\n",
    "            widget.value = ''  # Clear the input\n",
    "            \n",
    "            if key in keys_to_notes and keys_to_notes[key] not in active_notes:\n",
    "                note = keys_to_notes[key]\n",
    "                with output:\n",
    "                    clear_output(wait=True)\n",
    "                    print(f\"Playing: {note} ({note_frequencies[note]:.2f} Hz)\")\n",
    "                \n",
    "                # Set up a stop flag for this note\n",
    "                stop_flag = threading.Event()\n",
    "                stop_flags[note] = stop_flag\n",
    "                \n",
    "                # Start playing the note\n",
    "                stream = play_note(note, waveform_type=waveform_selector.value, stop_flag=stop_flag)\n",
    "                active_notes[note] = stream\n",
    "        \n",
    "        def handle_keyup(widget):\n",
    "            # This is more complex - we need to determine which key was released\n",
    "            # In a real app, we'd use JavaScript for this, but for simplicity, \n",
    "            # we'll just stop the most recently played note\n",
    "            if active_notes:\n",
    "                note = list(active_notes.keys())[-1]\n",
    "                if note in stop_flags:\n",
    "                    stop_flags[note].set()\n",
    "                if note in active_notes:\n",
    "                    active_notes[note].stop()\n",
    "                    del active_notes[note]\n",
    "                    del stop_flags[note]\n",
    "        \n",
    "        text.observe(handle_keydown, 'value')\n",
    "        \n",
    "        return text\n",
    "\n",
    "# Display the widgets\n",
    "display(keyboard_html)\n",
    "display(waveform_selector)\n",
    "keyboard = KeyboardWidget()\n",
    "display(output)"
   ]
  },
  {
   "cell_type": "code",
   "execution_count": 30,
   "id": "1fdf841f",
   "metadata": {},
   "outputs": [
    {
     "name": "stdout",
     "output_type": "stream",
     "text": [
      "Testing sound output...\n",
      "Sound test complete.\n"
     ]
    }
   ],
   "source": [
    "# Add this to a cell and run it to test basic sounddevice output\n",
    "def test_sound():\n",
    "    print(\"Testing sound output...\")\n",
    "    samples = generate_waveform(440, 1.0, sample_rate=sample_rate)\n",
    "    sd.play(samples, sample_rate)\n",
    "    sd.wait()\n",
    "    print(\"Sound test complete.\")\n",
    "\n",
    "test_sound()"
   ]
  },
  {
   "cell_type": "code",
   "execution_count": 31,
   "id": "69bbdfdc",
   "metadata": {},
   "outputs": [
    {
     "name": "stdout",
     "output_type": "stream",
     "text": [
      "   0 Microsoft Sound Mapper - Output, MME (0 in, 2 out)\n",
      "<  1 Realtek Digital Output (Realtek, MME (0 in, 2 out)\n",
      "   2 Dell AW3821DW (NVIDIA High Defi, MME (0 in, 2 out)\n",
      "   3 Primary Sound Driver, Windows DirectSound (0 in, 8 out)\n",
      "   4 Realtek Digital Output (Realtek USB Audio), Windows DirectSound (0 in, 2 out)\n",
      "   5 Dell AW3821DW (NVIDIA High Definition Audio), Windows DirectSound (0 in, 2 out)\n",
      "   6 Dell AW3821DW (NVIDIA High Definition Audio), Windows WASAPI (0 in, 2 out)\n",
      "   7 Realtek Digital Output (Realtek USB Audio), Windows WASAPI (0 in, 8 out)\n",
      "   8 Output (NVIDIA High Definition Audio), Windows WDM-KS (0 in, 2 out)\n",
      "   9 Headphones (), Windows WDM-KS (0 in, 2 out)\n",
      "  10 Headphones (), Windows WDM-KS (0 in, 2 out)\n",
      "  11 Headset (@System32\\drivers\\bthhfenum.sys,#2;%1 Hands-Free%0\n",
      ";(W-KING D8)), Windows WDM-KS (0 in, 1 out)\n",
      "  12 Headset (@System32\\drivers\\bthhfenum.sys,#2;%1 Hands-Free%0\n",
      ";(W-KING D8)), Windows WDM-KS (1 in, 0 out)\n",
      "  13 Headset (@System32\\drivers\\bthhfenum.sys,#2;%1 Hands-Free%0\n",
      ";(W-KING D8)), Windows WDM-KS (0 in, 1 out)\n",
      "  14 Headset (@System32\\drivers\\bthhfenum.sys,#2;%1 Hands-Free%0\n",
      ";(W-KING D8)), Windows WDM-KS (1 in, 0 out)\n",
      "  15 Line In (Realtek USB Audio), Windows WDM-KS (2 in, 0 out)\n",
      "  16 Microphone (Realtek USB Audio), Windows WDM-KS (2 in, 0 out)\n",
      "  17 Stereo Mix (Realtek USB Audio), Windows WDM-KS (2 in, 0 out)\n",
      "  18 Headphones (Realtek USB Audio), Windows WDM-KS (0 in, 2 out)\n",
      "  19 Speakers (Realtek USB Audio), Windows WDM-KS (0 in, 8 out)\n",
      "  20 SPDIF Interface (Realtek USB Audio), Windows WDM-KS (0 in, 2 out)\n",
      "  21 Headset (@System32\\drivers\\bthhfenum.sys,#2;%1 Hands-Free%0\n",
      ";(WH-1000XM5)), Windows WDM-KS (0 in, 1 out)\n",
      "  22 Headset (@System32\\drivers\\bthhfenum.sys,#2;%1 Hands-Free%0\n",
      ";(WH-1000XM5)), Windows WDM-KS (1 in, 0 out)\n",
      "  23 Headphones (), Windows WDM-KS (0 in, 2 out)\n"
     ]
    }
   ],
   "source": [
    "# List audio devices to check configuration\n",
    "print(sd.query_devices())"
   ]
  },
  {
   "cell_type": "code",
   "execution_count": null,
   "id": "5f18a77d",
   "metadata": {},
   "outputs": [
    {
     "data": {
      "application/vnd.jupyter.widget-view+json": {
       "model_id": "b0e61a78bd3f4d13b070cc1be556d435",
       "version_major": 2,
       "version_minor": 0
      },
      "text/plain": [
       "HTML(value='\\n    <div style=\"font-family: monospace; white-space: pre; line-height: 1; font-size: 24px; font-…"
      ]
     },
     "metadata": {},
     "output_type": "display_data"
    },
    {
     "data": {
      "application/vnd.jupyter.widget-view+json": {
       "model_id": "1402180279bc453ab2df19025fc1a620",
       "version_major": 2,
       "version_minor": 0
      },
      "text/plain": [
       "Dropdown(description='Waveform:', index=4, options=('sine', 'square', 'triangle', 'sawtooth', 'harmonic'), val…"
      ]
     },
     "metadata": {},
     "output_type": "display_data"
    },
    {
     "data": {
      "application/vnd.jupyter.widget-view+json": {
       "model_id": "9cfef97076374c05b4eb29f88d98764c",
       "version_major": 2,
       "version_minor": 0
      },
      "text/plain": [
       "HBox(children=(Button(description='A', layout=Layout(height='40px', width='40px'), style=ButtonStyle()), Butto…"
      ]
     },
     "metadata": {},
     "output_type": "display_data"
    },
    {
     "data": {
      "application/vnd.jupyter.widget-view+json": {
       "model_id": "1a5ca67ce206453190366eb1d708a76d",
       "version_major": 2,
       "version_minor": 0
      },
      "text/plain": [
       "Output()"
      ]
     },
     "metadata": {},
     "output_type": "display_data"
    },
    {
     "data": {
      "application/vnd.jupyter.widget-view+json": {
       "model_id": "6e3fab3589794f908d27cdb9cde6917a",
       "version_major": 2,
       "version_minor": 0
      },
      "text/plain": [
       "Text(value='', layout=Layout(width='500px'), placeholder='Or type keys here: A-W-S-E-D-F-T-G-Y-H-U-J-K')"
      ]
     },
     "metadata": {},
     "output_type": "display_data"
    }
   ],
   "source": [
    "from IPython.display import display, clear_output\n",
    "import ipywidgets as widgets\n",
    "from pymu.core.old import generate_waveform, create_harmonic_series\n",
    "import numpy as np\n",
    "import sounddevice as sd\n",
    "import time\n",
    "\n",
    "# Define musical notes and corresponding keyboard keys\n",
    "keys_to_notes = {\n",
    "    'a': 'C4', 'w': 'C#4', 's': 'D4', 'e': 'D#4', 'd': 'E4', 'f': 'F4',\n",
    "    't': 'F#4', 'g': 'G4', 'y': 'G#4', 'h': 'A4', 'u': 'A#4', 'j': 'B4', 'k': 'C5'\n",
    "}\n",
    "\n",
    "# Define frequencies for each note\n",
    "note_frequencies = {\n",
    "    'C4': 261.63, 'C#4': 277.18, 'D4': 293.66, 'D#4': 311.13, 'E4': 329.63,\n",
    "    'F4': 349.23, 'F#4': 369.99, 'G4': 392.00, 'G#4': 415.30, 'A4': 440.00,\n",
    "    'A#4': 466.16, 'B4': 493.88, 'C5': 523.25\n",
    "}\n",
    "\n",
    "sample_rate = 44100\n",
    "output = widgets.Output()\n",
    "\n",
    "# Define the waveform selector\n",
    "waveform_selector = widgets.Dropdown(\n",
    "    options=['sine', 'square', 'triangle', 'sawtooth', 'harmonic'],\n",
    "    value='harmonic',\n",
    "    description='Waveform:',\n",
    ")\n",
    "\n",
    "# Create a keyboard visualization\n",
    "keyboard_html = widgets.HTML(\n",
    "    value=\"\"\"\n",
    "    <div style=\"font-family: monospace; white-space: pre; line-height: 1; font-size: 24px; font-weight: bold;\">\n",
    "      ┌───┬───┬───┬───┬───┬───┬───┬───┬───┬───┐\n",
    "      │ A │ W │ S │ E │ D │ F │ T │ G │ Y │ H │\n",
    "      │ C │C#/│ D │D#/│ E │ F │F#/│ G │G#/│ A │\n",
    "      │   │Db │   │Eb │   │   │Gb │   │Ab │   │\n",
    "      └───┴───┴───┴───┴───┴───┴───┴───┴───┴───┘\n",
    "    </div>\n",
    "    \"\"\"\n",
    ")\n",
    "\n",
    "# Create buttons instead of relying on keyboard events\n",
    "buttons = {}\n",
    "button_layout = widgets.Layout(width='40px', height='40px')\n",
    "button_box = widgets.HBox()\n",
    "\n",
    "for key, note in keys_to_notes.items():\n",
    "    button = widgets.Button(\n",
    "        description=key.upper(),\n",
    "        layout=button_layout,\n",
    "        button_style='', # 'success', 'info', 'warning', 'danger' or ''\n",
    "    )\n",
    "    \n",
    "    def create_handler(note_name):\n",
    "        def handle_click(b):\n",
    "            with output:\n",
    "                clear_output(wait=True)\n",
    "                print(f\"Playing: {note_name} ({note_frequencies[note_name]:.2f} Hz)\")\n",
    "            \n",
    "            # Generate and play the sound\n",
    "            if waveform_selector.value == \"harmonic\":\n",
    "                samples = create_harmonic_series(\n",
    "                    fundamental_freq=note_frequencies[note_name],\n",
    "                    num_harmonics=5,\n",
    "                    amplitudes=[1.0, 0.5, 0.25, 0.125, 0.0625],\n",
    "                    duration=1.0,\n",
    "                    sample_rate=sample_rate\n",
    "                )\n",
    "            else:\n",
    "                samples = generate_waveform(\n",
    "                    frequency=note_frequencies[note_name],\n",
    "                    duration=1.0,\n",
    "                    waveform=waveform_selector.value,\n",
    "                    sample_rate=sample_rate\n",
    "                )\n",
    "            \n",
    "            # Play sound with explicit wait=False to make it non-blocking\n",
    "            sd.play(samples, sample_rate, blocking=False)\n",
    "        \n",
    "        return handle_click\n",
    "    \n",
    "    button.on_click(create_handler(note))\n",
    "    buttons[key] = button\n",
    "    button_box.children = (*button_box.children, button)\n",
    "\n",
    "# Display the interface\n",
    "display(keyboard_html)\n",
    "display(waveform_selector)\n",
    "display(button_box)\n",
    "display(output)\n",
    "\n",
    "# Also provide a text input method with additional debug output\n",
    "text_input = widgets.Text(\n",
    "    placeholder='Or type keys here: A-W-S-E-D-F-T-G-Y-H-U-J-K',\n",
    "    layout=widgets.Layout(width='500px')\n",
    ")\n",
    "\n",
    "def on_text_change(change):\n",
    "    if 'new' in change and change['new']:\n",
    "        key = change['new'].lower()\n",
    "        text_input.value = ''  # Clear the input\n",
    "        \n",
    "        with output:\n",
    "            print(f\"Key pressed: {key}\")  # Debug output\n",
    "        \n",
    "        if key in keys_to_notes:\n",
    "            note = keys_to_notes[key]\n",
    "            with output:\n",
    "                print(f\"Playing: {note} ({note_frequencies[note]:.2f} Hz)\")\n",
    "            \n",
    "            # Generate and play the sound\n",
    "            if waveform_selector.value == \"harmonic\":\n",
    "                samples = create_harmonic_series(\n",
    "                    fundamental_freq=note_frequencies[note],\n",
    "                    num_harmonics=5,\n",
    "                    amplitudes=[1.0, 0.5, 0.25, 0.125, 0.0625],\n",
    "                    duration=1.0,\n",
    "                    sample_rate=sample_rate\n",
    "                )\n",
    "            else:\n",
    "                samples = generate_waveform(\n",
    "                    frequency=note_frequencies[note],\n",
    "                    duration=1.0,\n",
    "                    waveform=waveform_selector.value,\n",
    "                    sample_rate=sample_rate\n",
    "                )\n",
    "            \n",
    "            # Debug output\n",
    "            print(f\"Generated {len(samples)} samples, max amplitude: {np.max(np.abs(samples))}\")\n",
    "            \n",
    "            # Play sound with explicit wait=False to make it non-blocking\n",
    "            sd.play(samples, sample_rate, blocking=False)\n",
    "\n",
    "text_input.observe(on_text_change, names='value')\n",
    "display(text_input)"
   ]
  },
  {
   "cell_type": "code",
   "execution_count": null,
   "id": "d7edfb6b",
   "metadata": {},
   "outputs": [
    {
     "data": {
      "application/vnd.jupyter.widget-view+json": {
       "model_id": "97bdaa577c1d450bb38103ec9f54f602",
       "version_major": 2,
       "version_minor": 0
      },
      "text/plain": [
       "HTML(value='\\n    <div style=\"font-family: monospace; white-space: pre; line-height: 1; font-size: 24px; font-…"
      ]
     },
     "metadata": {},
     "output_type": "display_data"
    },
    {
     "data": {
      "application/vnd.jupyter.widget-view+json": {
       "model_id": "e542f80ceef3494a9fecfead3b08c0d1",
       "version_major": 2,
       "version_minor": 0
      },
      "text/plain": [
       "Dropdown(description='Waveform:', index=4, options=('sine', 'square', 'triangle', 'sawtooth', 'harmonic'), val…"
      ]
     },
     "metadata": {},
     "output_type": "display_data"
    },
    {
     "data": {
      "application/vnd.jupyter.widget-view+json": {
       "model_id": "3e6985a5918d43f1ac366446a7e3f948",
       "version_major": 2,
       "version_minor": 0
      },
      "text/plain": [
       "HBox(children=(Button(description='A', layout=Layout(height='40px', width='40px'), style=ButtonStyle()), Butto…"
      ]
     },
     "metadata": {},
     "output_type": "display_data"
    },
    {
     "data": {
      "application/vnd.jupyter.widget-view+json": {
       "model_id": "f1bb7c9f0d57403d8bad579ef2fe231c",
       "version_major": 2,
       "version_minor": 0
      },
      "text/plain": [
       "Output()"
      ]
     },
     "metadata": {},
     "output_type": "display_data"
    },
    {
     "data": {
      "application/vnd.jupyter.widget-view+json": {
       "model_id": "513ecc131aab4e6e940f7c4f791bf4eb",
       "version_major": 2,
       "version_minor": 0
      },
      "text/plain": [
       "Text(value='', layout=Layout(width='500px'), placeholder='Or type keys here: A-W-S-E-D-F-T-G-Y-H-U-J-K')"
      ]
     },
     "metadata": {},
     "output_type": "display_data"
    }
   ],
   "source": [
    "from IPython.display import display, clear_output\n",
    "import ipywidgets as widgets\n",
    "from pymu.core.old import generate_waveform, create_harmonic_series\n",
    "import numpy as np\n",
    "import sounddevice as sd\n",
    "import time\n",
    "\n",
    "# Define musical notes and corresponding keyboard keys\n",
    "keys_to_notes = {\n",
    "    'a': 'C4', 'w': 'C#4', 's': 'D4', 'e': 'D#4', 'd': 'E4', 'f': 'F4',\n",
    "    't': 'F#4', 'g': 'G4', 'y': 'G#4', 'h': 'A4', 'u': 'A#4', 'j': 'B4', 'k': 'C5'\n",
    "}\n",
    "\n",
    "# Define frequencies for each note\n",
    "note_frequencies = {\n",
    "    'C4': 261.63, 'C#4': 277.18, 'D4': 293.66, 'D#4': 311.13, 'E4': 329.63,\n",
    "    'F4': 349.23, 'F#4': 369.99, 'G4': 392.00, 'G#4': 415.30, 'A4': 440.00,\n",
    "    'A#4': 466.16, 'B4': 493.88, 'C5': 523.25\n",
    "}\n",
    "\n",
    "sample_rate = 44100\n",
    "output = widgets.Output()\n",
    "\n",
    "# Define the waveform selector\n",
    "waveform_selector = widgets.Dropdown(\n",
    "    options=['sine', 'square', 'triangle', 'sawtooth', 'harmonic'],\n",
    "    value='harmonic',\n",
    "    description='Waveform:',\n",
    ")\n",
    "\n",
    "# Create a keyboard visualization\n",
    "keyboard_html = widgets.HTML(\n",
    "    value=\"\"\"\n",
    "    <div style=\"font-family: monospace; white-space: pre; line-height: 1; font-size: 24px; font-weight: bold;\">\n",
    "      ┌───┬───┬───┬───┬───┬───┬───┬───┬───┬───┐\n",
    "      │ A │ W │ S │ E │ D │ F │ T │ G │ Y │ H │\n",
    "      │ C │C#/│ D │D#/│ E │ F │F#/│ G │G#/│ A │\n",
    "      │   │Db │   │Eb │   │   │Gb │   │Ab │   │\n",
    "      └───┴───┴───┴───┴───┴───┴───┴───┴───┴───┘\n",
    "    </div>\n",
    "    \"\"\"\n",
    ")\n",
    "\n",
    "# Create buttons instead of relying on keyboard events\n",
    "buttons = {}\n",
    "button_layout = widgets.Layout(width='40px', height='40px')\n",
    "button_box = widgets.HBox()\n",
    "\n",
    "for key, note in keys_to_notes.items():\n",
    "    button = widgets.Button(\n",
    "        description=key.upper(),\n",
    "        layout=button_layout,\n",
    "        button_style='', # 'success', 'info', 'warning', 'danger' or ''\n",
    "    )\n",
    "    \n",
    "    def create_handler(note_name):\n",
    "        def handle_click(b):\n",
    "            with output:\n",
    "                clear_output(wait=True)\n",
    "                print(f\"Playing: {note_name} ({note_frequencies[note_name]:.2f} Hz)\")\n",
    "            \n",
    "            # Generate and play the sound\n",
    "            if waveform_selector.value == \"harmonic\":\n",
    "                samples = create_harmonic_series(\n",
    "                    fundamental_freq=note_frequencies[note_name],\n",
    "                    num_harmonics=5,\n",
    "                    amplitudes=[1.0, 0.5, 0.25, 0.125, 0.0625],\n",
    "                    duration=1.0,\n",
    "                    sample_rate=sample_rate\n",
    "                )\n",
    "            else:\n",
    "                samples = generate_waveform(\n",
    "                    frequency=note_frequencies[note_name],\n",
    "                    duration=1.0,\n",
    "                    waveform=waveform_selector.value,\n",
    "                    sample_rate=sample_rate\n",
    "                )\n",
    "            \n",
    "            # Play sound with explicit wait=False to make it non-blocking\n",
    "            sd.play(samples, sample_rate, blocking=False)\n",
    "        \n",
    "        return handle_click\n",
    "    \n",
    "    button.on_click(create_handler(note))\n",
    "    buttons[key] = button\n",
    "    button_box.children = (*button_box.children, button)\n",
    "\n",
    "# Display the interface\n",
    "display(keyboard_html)\n",
    "display(waveform_selector)\n",
    "display(button_box)\n",
    "display(output)\n",
    "\n",
    "# Also provide a text input method with additional debug output\n",
    "text_input = widgets.Text(\n",
    "    placeholder='Or type keys here: A-W-S-E-D-F-T-G-Y-H-U-J-K',\n",
    "    layout=widgets.Layout(width='500px')\n",
    ")\n",
    "\n",
    "def on_text_change(change):\n",
    "    if 'new' in change and change['new']:\n",
    "        key = change['new'].lower()\n",
    "        text_input.value = ''  # Clear the input\n",
    "        \n",
    "        with output:\n",
    "            print(f\"Key pressed: {key}\")  # Debug output\n",
    "        \n",
    "        if key in keys_to_notes:\n",
    "            note = keys_to_notes[key]\n",
    "            with output:\n",
    "                print(f\"Playing: {note} ({note_frequencies[note]:.2f} Hz)\")\n",
    "            \n",
    "            # Generate and play the sound\n",
    "            if waveform_selector.value == \"harmonic\":\n",
    "                samples = create_harmonic_series(\n",
    "                    fundamental_freq=note_frequencies[note],\n",
    "                    num_harmonics=5,\n",
    "                    amplitudes=[1.0, 0.5, 0.25, 0.125, 0.0625],\n",
    "                    duration=1.0,\n",
    "                    sample_rate=sample_rate\n",
    "                )\n",
    "            else:\n",
    "                samples = generate_waveform(\n",
    "                    frequency=note_frequencies[note],\n",
    "                    duration=1.0,\n",
    "                    waveform=waveform_selector.value,\n",
    "                    sample_rate=sample_rate\n",
    "                )\n",
    "            \n",
    "            # Debug output\n",
    "            print(f\"Generated {len(samples)} samples, max amplitude: {np.max(np.abs(samples))}\")\n",
    "            \n",
    "            # Play sound with explicit wait=False to make it non-blocking\n",
    "            sd.play(samples, sample_rate, blocking=False)\n",
    "\n",
    "text_input.observe(on_text_change, names='value')\n",
    "display(text_input)"
   ]
  },
  {
   "cell_type": "code",
   "execution_count": null,
   "id": "a7bed619",
   "metadata": {},
   "outputs": [],
   "source": []
  }
 ],
 "metadata": {
  "kernelspec": {
   "display_name": ".venv",
   "language": "python",
   "name": "python3"
  },
  "language_info": {
   "codemirror_mode": {
    "name": "ipython",
    "version": 3
   },
   "file_extension": ".py",
   "mimetype": "text/x-python",
   "name": "python",
   "nbconvert_exporter": "python",
   "pygments_lexer": "ipython3",
   "version": "3.13.2"
  }
 },
 "nbformat": 4,
 "nbformat_minor": 5
}
